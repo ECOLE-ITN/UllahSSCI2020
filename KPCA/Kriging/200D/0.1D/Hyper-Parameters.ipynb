{
 "cells": [
  {
   "cell_type": "code",
   "execution_count": 1,
   "metadata": {},
   "outputs": [],
   "source": [
    "import numpy as np\n",
    "import pandas as pd"
   ]
  },
  {
   "cell_type": "code",
   "execution_count": null,
   "metadata": {},
   "outputs": [],
   "source": [
    "pd.DataFrame(np.array(accuracy), columns = ['Accuracy']).to_csv('Accuracy.csv')"
   ]
  },
  {
   "cell_type": "markdown",
   "metadata": {},
   "source": [
    "## PCA ELN Best Hyper-Paramaters"
   ]
  },
  {
   "cell_type": "code",
   "execution_count": 50,
   "metadata": {},
   "outputs": [],
   "source": [
    "PCA_ELN_50_30 = pd.read_csv('PCA_ELN_5030.csv', index_col=0)\n",
    "PCA_ELN_50_60 = pd.read_csv('PCA_ELN_5060.csv', index_col=0)\n",
    "PCA_ELN_50_90 = pd.read_csv('PCA_ELN_5090.csv', index_col=0)\n",
    "PCA_ELN_100_30 = pd.read_csv('PCA_ELN_10030.csv', index_col=0)\n",
    "PCA_ELN_100_60 = pd.read_csv('PCA_ELN_10060.csv', index_col=0)\n",
    "PCA_ELN_100_90 = pd.read_csv('PCA_ELN_10090.csv', index_col=0)\n",
    "PCA_ELN_200_30 = pd.read_csv('PCA_ELN_20030.csv', index_col=0)\n",
    "PCA_ELN_200_60 = pd.read_csv('PCA_ELN_20060.csv', index_col=0)\n",
    "PCA_ELN_200_90 = pd.read_csv('PCA_ELN_20090.csv', index_col=0)"
   ]
  },
  {
   "cell_type": "code",
   "execution_count": 51,
   "metadata": {},
   "outputs": [
    {
     "data": {
      "text/plain": [
       "\"{'dim3': -0.7709327273466755, 'dim4': 0.48586287919279614}\""
      ]
     },
     "execution_count": 51,
     "metadata": {},
     "output_type": "execute_result"
    }
   ],
   "source": [
    "PCA_ELN_50_30['params'][PCA_ELN_50_30['loss'].idxmin()]"
   ]
  },
  {
   "cell_type": "code",
   "execution_count": 52,
   "metadata": {},
   "outputs": [
    {
     "data": {
      "text/plain": [
       "\"{'dim3': -0.9693161458986255, 'dim4': 0.25295503110974094}\""
      ]
     },
     "execution_count": 52,
     "metadata": {},
     "output_type": "execute_result"
    }
   ],
   "source": [
    "PCA_ELN_50_60['params'][PCA_ELN_50_60['loss'].idxmin()]"
   ]
  },
  {
   "cell_type": "code",
   "execution_count": 53,
   "metadata": {},
   "outputs": [
    {
     "data": {
      "text/plain": [
       "\"{'dim3': -1.9275260511265315, 'dim4': 0.8810670023226053}\""
      ]
     },
     "execution_count": 53,
     "metadata": {},
     "output_type": "execute_result"
    }
   ],
   "source": [
    "PCA_ELN_50_90['params'][PCA_ELN_50_90['loss'].idxmin()]"
   ]
  },
  {
   "cell_type": "code",
   "execution_count": 54,
   "metadata": {},
   "outputs": [
    {
     "data": {
      "text/plain": [
       "\"{'dim3': -0.5082129709490799, 'dim4': 0.5360319711811854}\""
      ]
     },
     "execution_count": 54,
     "metadata": {},
     "output_type": "execute_result"
    }
   ],
   "source": [
    "PCA_ELN_100_30['params'][PCA_ELN_100_30['loss'].idxmin()]"
   ]
  },
  {
   "cell_type": "code",
   "execution_count": 13,
   "metadata": {},
   "outputs": [
    {
     "data": {
      "text/plain": [
       "\"{'dim3': 1.9621584998676358, 'dim4': 0.0054783827997132994}\""
      ]
     },
     "execution_count": 13,
     "metadata": {},
     "output_type": "execute_result"
    }
   ],
   "source": [
    "PCA_ELN_100_60['params'][PCA_ELN_100_60['loss'].idxmin()]"
   ]
  },
  {
   "cell_type": "code",
   "execution_count": 55,
   "metadata": {},
   "outputs": [
    {
     "data": {
      "text/plain": [
       "\"{'dim3': -0.8119416250347751, 'dim4': 0.7609638327850055}\""
      ]
     },
     "execution_count": 55,
     "metadata": {},
     "output_type": "execute_result"
    }
   ],
   "source": [
    "PCA_ELN_100_90['params'][PCA_ELN_100_90['loss'].idxmin()]"
   ]
  },
  {
   "cell_type": "code",
   "execution_count": 56,
   "metadata": {},
   "outputs": [
    {
     "data": {
      "text/plain": [
       "\"{'dim3': -0.4679648135150348, 'dim4': 0.8163258089687864}\""
      ]
     },
     "execution_count": 56,
     "metadata": {},
     "output_type": "execute_result"
    }
   ],
   "source": [
    "PCA_ELN_200_30['params'][PCA_ELN_200_30['loss'].idxmin()]"
   ]
  },
  {
   "cell_type": "code",
   "execution_count": 57,
   "metadata": {},
   "outputs": [
    {
     "data": {
      "text/plain": [
       "\"{'dim3': -0.990255367849466, 'dim4': 0.3394544609411634}\""
      ]
     },
     "execution_count": 57,
     "metadata": {},
     "output_type": "execute_result"
    }
   ],
   "source": [
    "PCA_ELN_200_60['params'][PCA_ELN_200_60['loss'].idxmin()]"
   ]
  },
  {
   "cell_type": "code",
   "execution_count": 13,
   "metadata": {},
   "outputs": [
    {
     "data": {
      "text/plain": [
       "\"{'dim3': -1.2944022958176284, 'dim4': 0.10540257903872785}\""
      ]
     },
     "execution_count": 13,
     "metadata": {},
     "output_type": "execute_result"
    }
   ],
   "source": [
    "PCA_ELN_200_90['params'][PCA_ELN_200_90['loss'].idxmin()]"
   ]
  },
  {
   "cell_type": "markdown",
   "metadata": {},
   "source": [
    "## KPCA ELN Best Hyper-Paramaters"
   ]
  },
  {
   "cell_type": "code",
   "execution_count": 40,
   "metadata": {},
   "outputs": [],
   "source": [
    "KPCA_ELN_50_30 = pd.read_csv('KPCA_ELN_5030.csv', index_col=0)\n",
    "KPCA_ELN_50_60 = pd.read_csv('KPCA_ELN_5060.csv', index_col=0)\n",
    "KPCA_ELN_50_90 = pd.read_csv('KPCA_ELN_5090.csv', index_col=0)\n",
    "KPCA_ELN_100_30 = pd.read_csv('KPCA_ELN_10030.csv', index_col=0)\n",
    "KPCA_ELN_100_60 = pd.read_csv('KPCA_ELN_10060.csv', index_col=0)\n",
    "KPCA_ELN_100_90 = pd.read_csv('KPCA_ELN_10090.csv', index_col=0)\n",
    "KPCA_ELN_200_30 = pd.read_csv('KPCA_ELN_20030.csv', index_col=0)\n",
    "KPCA_ELN_200_60 = pd.read_csv('KPCA_ELN_20060.csv', index_col=0)\n",
    "KPCA_ELN_200_90 = pd.read_csv('KPCA_ELN_20090.csv', index_col=0)"
   ]
  },
  {
   "cell_type": "code",
   "execution_count": 41,
   "metadata": {},
   "outputs": [
    {
     "data": {
      "text/plain": [
       "\"{'dim1': 2, 'dim2': 2.029382568369808, 'dim3': 5, 'dim4': 0.12929627320212722, 'dim5': -1.9994031989846746, 'dim6': 0.7809306886794394}\""
      ]
     },
     "execution_count": 41,
     "metadata": {},
     "output_type": "execute_result"
    }
   ],
   "source": [
    "KPCA_ELN_50_30['params'][KPCA_ELN_50_30['loss'].idxmin()]"
   ]
  },
  {
   "cell_type": "code",
   "execution_count": 42,
   "metadata": {},
   "outputs": [
    {
     "data": {
      "text/plain": [
       "\"{'dim1': 2, 'dim2': 1.764217353929876, 'dim3': 5, 'dim4': -0.6683548142881277, 'dim5': -1.707609412654524, 'dim6': 0.010689819874499046}\""
      ]
     },
     "execution_count": 42,
     "metadata": {},
     "output_type": "execute_result"
    }
   ],
   "source": [
    "KPCA_ELN_50_60['params'][KPCA_ELN_50_60['loss'].idxmin()]"
   ]
  },
  {
   "cell_type": "code",
   "execution_count": 43,
   "metadata": {},
   "outputs": [
    {
     "data": {
      "text/plain": [
       "\"{'dim1': 2, 'dim2': 1.844007233381912, 'dim3': 4, 'dim4': 0.8837011711637061, 'dim5': -1.7095225858426049, 'dim6': 0.8837479122857343}\""
      ]
     },
     "execution_count": 43,
     "metadata": {},
     "output_type": "execute_result"
    }
   ],
   "source": [
    "KPCA_ELN_50_90['params'][KPCA_ELN_50_90['loss'].idxmin()]"
   ]
  },
  {
   "cell_type": "code",
   "execution_count": 44,
   "metadata": {},
   "outputs": [
    {
     "data": {
      "text/plain": [
       "\"{'dim1': 2, 'dim2': 2.3211468632685794, 'dim3': 5, 'dim4': 0.5975764783860263, 'dim5': -0.9970639585512971, 'dim6': 0.9434748676159965}\""
      ]
     },
     "execution_count": 44,
     "metadata": {},
     "output_type": "execute_result"
    }
   ],
   "source": [
    "KPCA_ELN_100_30['params'][KPCA_ELN_100_30['loss'].idxmin()]"
   ]
  },
  {
   "cell_type": "code",
   "execution_count": 45,
   "metadata": {},
   "outputs": [
    {
     "data": {
      "text/plain": [
       "\"{'dim1': 2, 'dim2': 2.2040074056362413, 'dim3': 5, 'dim4': 0.7873853594659482, 'dim5': -0.8043250441506191, 'dim6': 0.8915057574451724}\""
      ]
     },
     "execution_count": 45,
     "metadata": {},
     "output_type": "execute_result"
    }
   ],
   "source": [
    "KPCA_ELN_100_60['params'][KPCA_ELN_100_60['loss'].idxmin()]"
   ]
  },
  {
   "cell_type": "code",
   "execution_count": 46,
   "metadata": {},
   "outputs": [
    {
     "data": {
      "text/plain": [
       "\"{'dim1': 2, 'dim2': 2.866742785006641, 'dim3': 5, 'dim4': -0.39039567935645036, 'dim5': -1.073028782024135, 'dim6': 0.9676420277169}\""
      ]
     },
     "execution_count": 46,
     "metadata": {},
     "output_type": "execute_result"
    }
   ],
   "source": [
    "KPCA_ELN_100_90['params'][KPCA_ELN_100_90['loss'].idxmin()]"
   ]
  },
  {
   "cell_type": "code",
   "execution_count": 47,
   "metadata": {},
   "outputs": [
    {
     "data": {
      "text/plain": [
       "\"{'dim1': 2, 'dim2': 4.214993224447217, 'dim3': 4, 'dim4': -0.8150089224393293, 'dim5': -1.8995212659956462, 'dim6': 0.1760331007794981}\""
      ]
     },
     "execution_count": 47,
     "metadata": {},
     "output_type": "execute_result"
    }
   ],
   "source": [
    "KPCA_ELN_200_30['params'][KPCA_ELN_200_30['loss'].idxmin()]"
   ]
  },
  {
   "cell_type": "code",
   "execution_count": 48,
   "metadata": {},
   "outputs": [
    {
     "data": {
      "text/plain": [
       "\"{'dim1': 2, 'dim2': 0.49102320466147176, 'dim3': 4, 'dim4': 0.46321550522583155, 'dim5': -0.9270366630736824, 'dim6': 0.42562914181351413}\""
      ]
     },
     "execution_count": 48,
     "metadata": {},
     "output_type": "execute_result"
    }
   ],
   "source": [
    "KPCA_ELN_200_60['params'][KPCA_ELN_200_60['loss'].idxmin()]"
   ]
  },
  {
   "cell_type": "code",
   "execution_count": 49,
   "metadata": {},
   "outputs": [
    {
     "data": {
      "text/plain": [
       "\"{'dim1': 2, 'dim2': 0.38037678285098336, 'dim3': 5, 'dim4': 0.8799699691076022, 'dim5': -0.48771728731566777, 'dim6': 0.5385354982197545}\""
      ]
     },
     "execution_count": 49,
     "metadata": {},
     "output_type": "execute_result"
    }
   ],
   "source": [
    "KPCA_ELN_200_90['params'][KPCA_ELN_200_90['loss'].idxmin()]"
   ]
  },
  {
   "cell_type": "markdown",
   "metadata": {},
   "source": [
    "## KPCA Kriging Best Hyper-Paramaters"
   ]
  },
  {
   "cell_type": "code",
   "execution_count": 27,
   "metadata": {},
   "outputs": [],
   "source": [
    "KPCA_Kriging_50_30 = pd.read_csv('KPCA_Kriging_5030.csv', index_col=0)\n",
    "KPCA_Kriging_50_60 = pd.read_csv('KPCA_Kriging_5060.csv', index_col=0)\n",
    "KPCA_Kriging_50_90 = pd.read_csv('KPCA_Kriging_5090.csv', index_col=0)\n",
    "KPCA_Kriging_100_30 = pd.read_csv('KPCA_Kriging_10030.csv', index_col=0)\n",
    "KPCA_Kriging_100_60 = pd.read_csv('KPCA_Kriging_10060.csv', index_col=0)\n",
    "\n",
    "KPCA_Kriging_100_90 = pd.read_csv('KPCA_Kriging_10090.csv', index_col=0)\n",
    "KPCA_Kriging_200_30 = pd.read_csv('KPCA_Kriging_20030.csv', index_col=0)\n",
    "KPCA_Kriging_200_60 = pd.read_csv('KPCA_Kriging_20060.csv', index_col=0)\n",
    "KPCA_Kriging_200_90 = pd.read_csv('KPCA_Kriging_20090.csv', index_col=0)"
   ]
  },
  {
   "cell_type": "code",
   "execution_count": 33,
   "metadata": {},
   "outputs": [
    {
     "data": {
      "text/plain": [
       "\"{'dim1': 1, 'dim2': 4.979480527382126, 'dim3': 3, 'dim4': -0.9965931878101536}\""
      ]
     },
     "execution_count": 33,
     "metadata": {},
     "output_type": "execute_result"
    }
   ],
   "source": [
    "KPCA_Kriging_100_90['params'][KPCA_Kriging_100_90['loss'].idxmin()]"
   ]
  },
  {
   "cell_type": "code",
   "execution_count": 35,
   "metadata": {},
   "outputs": [
    {
     "data": {
      "text/plain": [
       "\"{'dim1': 3, 'dim2': 2.6251795893066565, 'dim3': 2, 'dim4': 0.6449793607144246}\""
      ]
     },
     "execution_count": 35,
     "metadata": {},
     "output_type": "execute_result"
    }
   ],
   "source": [
    "KPCA_Kriging_200_30['params'][KPCA_Kriging_200_30['loss'].idxmin()]"
   ]
  },
  {
   "cell_type": "code",
   "execution_count": 36,
   "metadata": {},
   "outputs": [
    {
     "data": {
      "text/plain": [
       "\"{'dim1': 3, 'dim2': -0.34865034888214486, 'dim3': 5, 'dim4': -0.09591776854414948}\""
      ]
     },
     "execution_count": 36,
     "metadata": {},
     "output_type": "execute_result"
    }
   ],
   "source": [
    "KPCA_Kriging_200_60['params'][KPCA_Kriging_200_60['loss'].idxmin()]"
   ]
  },
  {
   "cell_type": "code",
   "execution_count": 37,
   "metadata": {},
   "outputs": [
    {
     "data": {
      "text/plain": [
       "\"{'dim1': 3, 'dim2': -0.34791018528893863, 'dim3': 5, 'dim4': -0.45876783358304046}\""
      ]
     },
     "execution_count": 37,
     "metadata": {},
     "output_type": "execute_result"
    }
   ],
   "source": [
    "KPCA_Kriging_200_90['params'][KPCA_Kriging_200_90['loss'].idxmin()]"
   ]
  },
  {
   "cell_type": "code",
   "execution_count": 28,
   "metadata": {},
   "outputs": [
    {
     "data": {
      "text/plain": [
       "\"{'dim1': 1, 'dim2': 2.4768460566994888, 'dim3': 2, 'dim4': 0.10444378538207588}\""
      ]
     },
     "execution_count": 28,
     "metadata": {},
     "output_type": "execute_result"
    }
   ],
   "source": [
    "KPCA_Kriging_50_30['params'][KPCA_Kriging_50_30['loss'].idxmin()]"
   ]
  },
  {
   "cell_type": "code",
   "execution_count": 29,
   "metadata": {},
   "outputs": [
    {
     "data": {
      "text/plain": [
       "\"{'dim1': 3, 'dim2': 0.04972899350314401, 'dim3': 3, 'dim4': 0.35935337958313973}\""
      ]
     },
     "execution_count": 29,
     "metadata": {},
     "output_type": "execute_result"
    }
   ],
   "source": [
    "KPCA_Kriging_50_60['params'][KPCA_Kriging_50_60['loss'].idxmin()]"
   ]
  },
  {
   "cell_type": "code",
   "execution_count": 30,
   "metadata": {},
   "outputs": [
    {
     "data": {
      "text/plain": [
       "\"{'dim1': 3, 'dim2': -0.18596067092706053, 'dim3': 3, 'dim4': 0.12511014711672586}\""
      ]
     },
     "execution_count": 30,
     "metadata": {},
     "output_type": "execute_result"
    }
   ],
   "source": [
    "KPCA_Kriging_50_90['params'][KPCA_Kriging_50_90['loss'].idxmin()]"
   ]
  },
  {
   "cell_type": "code",
   "execution_count": 31,
   "metadata": {},
   "outputs": [
    {
     "data": {
      "text/plain": [
       "\"{'dim1': 1, 'dim2': 1.1840515255653958, 'dim3': 5, 'dim4': -0.05889779420216412}\""
      ]
     },
     "execution_count": 31,
     "metadata": {},
     "output_type": "execute_result"
    }
   ],
   "source": [
    "KPCA_Kriging_100_30['params'][KPCA_Kriging_100_30['loss'].idxmin()]"
   ]
  },
  {
   "cell_type": "code",
   "execution_count": 32,
   "metadata": {},
   "outputs": [
    {
     "data": {
      "text/plain": [
       "\"{'dim1': 1, 'dim2': -2.6829160297690193, 'dim3': 5, 'dim4': -0.8480159081503865}\""
      ]
     },
     "execution_count": 32,
     "metadata": {},
     "output_type": "execute_result"
    }
   ],
   "source": [
    "KPCA_Kriging_100_60['params'][KPCA_Kriging_100_60['loss'].idxmin()]"
   ]
  },
  {
   "cell_type": "markdown",
   "metadata": {},
   "source": [
    "## AEs Kriging Best Hyper-Paramaters"
   ]
  },
  {
   "cell_type": "code",
   "execution_count": 2,
   "metadata": {},
   "outputs": [],
   "source": [
    "AEs_Kriging_50_30 = pd.read_csv('AEs_5030.csv', index_col=0)\n",
    "AEs_Kriging_50_60 = pd.read_csv('AEs_5060.csv', index_col=0)\n",
    "AEs_Kriging_50_90 = pd.read_csv('AEs_5090.csv', index_col=0)\n",
    "AEs_Kriging_100_30 = pd.read_csv('AEs_10030.csv', index_col=0)\n",
    "AEs_Kriging_100_60 = pd.read_csv('AEs_10060.csv', index_col=0)\n",
    "AEs_Kriging_100_90 = pd.read_csv('AEs_10090.csv', index_col=0)\n",
    "\n",
    "AEs_Kriging_200_30 = pd.read_csv('AEs_20030.csv', index_col=0)\n",
    "AEs_Kriging_200_60 = pd.read_csv('AEs_20060.csv', index_col=0)\n",
    "AEs_Kriging_200_90 = pd.read_csv('AEs_20090.csv', index_col=0)"
   ]
  },
  {
   "cell_type": "code",
   "execution_count": 3,
   "metadata": {},
   "outputs": [
    {
     "data": {
      "text/plain": [
       "\"{'dim1': 40, 'dim2': 10}\""
      ]
     },
     "execution_count": 3,
     "metadata": {},
     "output_type": "execute_result"
    }
   ],
   "source": [
    "AEs_Kriging_50_30['params'][AEs_Kriging_50_30['loss'].idxmin()]"
   ]
  },
  {
   "cell_type": "code",
   "execution_count": 4,
   "metadata": {},
   "outputs": [
    {
     "data": {
      "text/plain": [
       "\"{'dim1': 40, 'dim2': 10}\""
      ]
     },
     "execution_count": 4,
     "metadata": {},
     "output_type": "execute_result"
    }
   ],
   "source": [
    "AEs_Kriging_50_60['params'][AEs_Kriging_50_60['loss'].idxmin()]"
   ]
  },
  {
   "cell_type": "code",
   "execution_count": 5,
   "metadata": {},
   "outputs": [
    {
     "data": {
      "text/plain": [
       "\"{'dim1': 30, 'dim2': 25}\""
      ]
     },
     "execution_count": 5,
     "metadata": {},
     "output_type": "execute_result"
    }
   ],
   "source": [
    "AEs_Kriging_50_90['params'][AEs_Kriging_50_90['loss'].idxmin()]"
   ]
  },
  {
   "cell_type": "code",
   "execution_count": 7,
   "metadata": {},
   "outputs": [
    {
     "data": {
      "text/plain": [
       "\"{'dim1': 45, 'dim2': 20}\""
      ]
     },
     "execution_count": 7,
     "metadata": {},
     "output_type": "execute_result"
    }
   ],
   "source": [
    "AEs_Kriging_100_30['params'][AEs_Kriging_100_30['loss'].idxmin()]"
   ]
  },
  {
   "cell_type": "code",
   "execution_count": 8,
   "metadata": {},
   "outputs": [
    {
     "data": {
      "text/plain": [
       "\"{'dim1': 45, 'dim2': 20}\""
      ]
     },
     "execution_count": 8,
     "metadata": {},
     "output_type": "execute_result"
    }
   ],
   "source": [
    "AEs_Kriging_100_60['params'][AEs_Kriging_100_60['loss'].idxmin()]"
   ]
  },
  {
   "cell_type": "code",
   "execution_count": 9,
   "metadata": {},
   "outputs": [
    {
     "data": {
      "text/plain": [
       "\"{'dim1': 30, 'dim2': 25}\""
      ]
     },
     "execution_count": 9,
     "metadata": {},
     "output_type": "execute_result"
    }
   ],
   "source": [
    "AEs_Kriging_100_90['params'][AEs_Kriging_100_90['loss'].idxmin()]"
   ]
  },
  {
   "cell_type": "code",
   "execution_count": 10,
   "metadata": {},
   "outputs": [
    {
     "data": {
      "text/plain": [
       "\"{'dim1': 15, 'dim2': 40}\""
      ]
     },
     "execution_count": 10,
     "metadata": {},
     "output_type": "execute_result"
    }
   ],
   "source": [
    "AEs_Kriging_200_30['params'][AEs_Kriging_200_30['loss'].idxmin()]"
   ]
  },
  {
   "cell_type": "code",
   "execution_count": 10,
   "metadata": {},
   "outputs": [
    {
     "data": {
      "text/plain": [
       "\"{'dim1': 35, 'dim2': 20}\""
      ]
     },
     "execution_count": 10,
     "metadata": {},
     "output_type": "execute_result"
    }
   ],
   "source": [
    "AEs_Kriging_200_60['params'][AEs_Kriging_200_60['loss'].idxmin()]"
   ]
  },
  {
   "cell_type": "code",
   "execution_count": 11,
   "metadata": {},
   "outputs": [
    {
     "data": {
      "text/plain": [
       "\"{'dim1': 40, 'dim2': 20}\""
      ]
     },
     "execution_count": 11,
     "metadata": {},
     "output_type": "execute_result"
    }
   ],
   "source": [
    "AEs_Kriging_200_90['params'][AEs_Kriging_200_90['loss'].idxmin()]"
   ]
  },
  {
   "cell_type": "markdown",
   "metadata": {},
   "source": [
    "## AEs ELN Best Hyper-Paramaters"
   ]
  },
  {
   "cell_type": "code",
   "execution_count": 19,
   "metadata": {},
   "outputs": [],
   "source": [
    "AEs_ELN_50_30 = pd.read_csv('AEs_ELN_5030.csv', index_col=0)\n",
    "AEs_ELN_50_60 = pd.read_csv('AEs_ELN_5060.csv', index_col=0)\n",
    "AEs_ELN_50_90 = pd.read_csv('AEs_ELN_5090.csv', index_col=0)\n",
    "AEs_ELN_100_30 = pd.read_csv('AEs_ELN_10030.csv', index_col=0)\n",
    "AEs_ELN_100_60 = pd.read_csv('AEs_ELN_10060.csv', index_col=0)\n",
    "AEs_ELN_100_90 = pd.read_csv('AEs_ELN_10090.csv', index_col=0)\n",
    "\n",
    "AEs_ELN_200_30 = pd.read_csv('AEs_ELN_20030.csv', index_col=0)\n",
    "AEs_ELN_200_60 = pd.read_csv('AEs_ELN_20060.csv', index_col=0)\n",
    "AEs_ELN_200_90 = pd.read_csv('AEs_ELN_20090.csv', index_col=0)"
   ]
  },
  {
   "cell_type": "code",
   "execution_count": 20,
   "metadata": {},
   "outputs": [
    {
     "data": {
      "text/plain": [
       "\"{'dim1': 40, 'dim2': 10, 'dim3': -1.6460835015125062, 'dim4': 0.9981172056554478}\""
      ]
     },
     "execution_count": 20,
     "metadata": {},
     "output_type": "execute_result"
    }
   ],
   "source": [
    "AEs_ELN_50_30['params'][AEs_ELN_50_30['loss'].idxmin()]"
   ]
  },
  {
   "cell_type": "code",
   "execution_count": 21,
   "metadata": {},
   "outputs": [
    {
     "data": {
      "text/plain": [
       "\"{'dim1': 45, 'dim2': 10, 'dim3': -1.8901555413729378, 'dim4': 0.9699804941339977}\""
      ]
     },
     "execution_count": 21,
     "metadata": {},
     "output_type": "execute_result"
    }
   ],
   "source": [
    "AEs_ELN_50_60['params'][AEs_ELN_50_60['loss'].idxmin()]"
   ]
  },
  {
   "cell_type": "code",
   "execution_count": 22,
   "metadata": {},
   "outputs": [
    {
     "data": {
      "text/plain": [
       "\"{'dim1': 35, 'dim2': 25, 'dim3': -1.8116665507702756, 'dim4': 0.9982992025965519}\""
      ]
     },
     "execution_count": 22,
     "metadata": {},
     "output_type": "execute_result"
    }
   ],
   "source": [
    "AEs_ELN_50_90['params'][AEs_ELN_50_90['loss'].idxmin()]"
   ]
  },
  {
   "cell_type": "code",
   "execution_count": 23,
   "metadata": {},
   "outputs": [
    {
     "data": {
      "text/plain": [
       "\"{'dim1': 30, 'dim2': 20, 'dim3': -1.7745963541101724, 'dim4': 0.0825995243845079}\""
      ]
     },
     "execution_count": 23,
     "metadata": {},
     "output_type": "execute_result"
    }
   ],
   "source": [
    "AEs_ELN_100_30['params'][AEs_ELN_100_30['loss'].idxmin()]"
   ]
  },
  {
   "cell_type": "code",
   "execution_count": 24,
   "metadata": {},
   "outputs": [
    {
     "data": {
      "text/plain": [
       "\"{'dim1': 40, 'dim2': 50, 'dim3': -1.8899336760996364, 'dim4': 0.4671263542548224}\""
      ]
     },
     "execution_count": 24,
     "metadata": {},
     "output_type": "execute_result"
    }
   ],
   "source": [
    "AEs_ELN_100_60['params'][AEs_ELN_100_60['loss'].idxmin()]"
   ]
  },
  {
   "cell_type": "code",
   "execution_count": 25,
   "metadata": {},
   "outputs": [
    {
     "data": {
      "text/plain": [
       "\"{'dim1': 45, 'dim2': 20, 'dim3': -1.719502529700798, 'dim4': 0.999003531326233}\""
      ]
     },
     "execution_count": 25,
     "metadata": {},
     "output_type": "execute_result"
    }
   ],
   "source": [
    "AEs_ELN_100_90['params'][AEs_ELN_100_90['loss'].idxmin()]"
   ]
  },
  {
   "cell_type": "code",
   "execution_count": 27,
   "metadata": {},
   "outputs": [
    {
     "data": {
      "text/plain": [
       "\"{'dim1': 5, 'dim2': 100, 'dim3': -1.9943594413787007, 'dim4': 0.9542973994711716}\""
      ]
     },
     "execution_count": 27,
     "metadata": {},
     "output_type": "execute_result"
    }
   ],
   "source": [
    "AEs_ELN_200_30['params'][AEs_ELN_200_30['loss'].idxmin()]"
   ]
  },
  {
   "cell_type": "code",
   "execution_count": 28,
   "metadata": {},
   "outputs": [
    {
     "data": {
      "text/plain": [
       "\"{'dim1': 35, 'dim2': 25, 'dim3': -0.8293746107321974, 'dim4': 0.8045525657459763}\""
      ]
     },
     "execution_count": 28,
     "metadata": {},
     "output_type": "execute_result"
    }
   ],
   "source": [
    "AEs_ELN_200_60['params'][AEs_ELN_200_60['loss'].idxmin()]"
   ]
  },
  {
   "cell_type": "code",
   "execution_count": 29,
   "metadata": {},
   "outputs": [
    {
     "data": {
      "text/plain": [
       "\"{'dim1': 35, 'dim2': 20, 'dim3': 0.46844583123338684, 'dim4': 0.999727572455054}\""
      ]
     },
     "execution_count": 29,
     "metadata": {},
     "output_type": "execute_result"
    }
   ],
   "source": [
    "AEs_ELN_200_90['params'][AEs_ELN_200_90['loss'].idxmin()]"
   ]
  },
  {
   "cell_type": "markdown",
   "metadata": {},
   "source": [
    "## VAEs Kriging Best Hyper-Paramaters"
   ]
  },
  {
   "cell_type": "code",
   "execution_count": 12,
   "metadata": {},
   "outputs": [],
   "source": [
    "VAEs_Kriging_50_30 = pd.read_csv('VAEs_5030.csv', index_col=0)\n",
    "VAEs_Kriging_50_60 = pd.read_csv('VAEs_5060.csv', index_col=0)\n",
    "VAEs_Kriging_50_90 = pd.read_csv('VAEs_5090.csv', index_col=0)\n",
    "VAEs_Kriging_100_30 = pd.read_csv('VAEs_10030.csv', index_col=0)\n",
    "VAEs_Kriging_100_60 = pd.read_csv('VAEs_10060.csv', index_col=0)\n",
    "VAEs_Kriging_100_90 = pd.read_csv('VAEs_10090.csv', index_col=0)\n",
    "\n",
    "VAEs_Kriging_200_30 = pd.read_csv('VAEs_20030.csv', index_col=0)\n",
    "VAEs_Kriging_200_60 = pd.read_csv('VAEs_20060.csv', index_col=0)\n",
    "VAEs_Kriging_200_90 = pd.read_csv('VAEs_20090.csv', index_col=0)"
   ]
  },
  {
   "cell_type": "code",
   "execution_count": 13,
   "metadata": {},
   "outputs": [
    {
     "data": {
      "text/plain": [
       "\"{'dim1': 35, 'dim2': 10}\""
      ]
     },
     "execution_count": 13,
     "metadata": {},
     "output_type": "execute_result"
    }
   ],
   "source": [
    "VAEs_Kriging_50_30['params'][VAEs_Kriging_50_30['loss'].idxmin()]"
   ]
  },
  {
   "cell_type": "code",
   "execution_count": 14,
   "metadata": {},
   "outputs": [
    {
     "data": {
      "text/plain": [
       "\"{'dim1': 15, 'dim2': 25}\""
      ]
     },
     "execution_count": 14,
     "metadata": {},
     "output_type": "execute_result"
    }
   ],
   "source": [
    "VAEs_Kriging_50_60['params'][VAEs_Kriging_50_60['loss'].idxmin()]"
   ]
  },
  {
   "cell_type": "code",
   "execution_count": 15,
   "metadata": {},
   "outputs": [
    {
     "data": {
      "text/plain": [
       "\"{'dim1': 45, 'dim2': 25}\""
      ]
     },
     "execution_count": 15,
     "metadata": {},
     "output_type": "execute_result"
    }
   ],
   "source": [
    "VAEs_Kriging_50_90['params'][VAEs_Kriging_50_90['loss'].idxmin()]"
   ]
  },
  {
   "cell_type": "code",
   "execution_count": 17,
   "metadata": {},
   "outputs": [
    {
     "data": {
      "text/plain": [
       "\"{'dim1': 40, 'dim2': 10}\""
      ]
     },
     "execution_count": 17,
     "metadata": {},
     "output_type": "execute_result"
    }
   ],
   "source": [
    "VAEs_Kriging_100_30['params'][VAEs_Kriging_100_30['loss'].idxmin()]"
   ]
  },
  {
   "cell_type": "code",
   "execution_count": 18,
   "metadata": {},
   "outputs": [
    {
     "data": {
      "text/plain": [
       "\"{'dim1': 45, 'dim2': 40}\""
      ]
     },
     "execution_count": 18,
     "metadata": {},
     "output_type": "execute_result"
    }
   ],
   "source": [
    "VAEs_Kriging_100_60['params'][VAEs_Kriging_100_60['loss'].idxmin()]"
   ]
  },
  {
   "cell_type": "code",
   "execution_count": 19,
   "metadata": {},
   "outputs": [
    {
     "data": {
      "text/plain": [
       "\"{'dim1': 5, 'dim2': 20}\""
      ]
     },
     "execution_count": 19,
     "metadata": {},
     "output_type": "execute_result"
    }
   ],
   "source": [
    "VAEs_Kriging_100_90['params'][VAEs_Kriging_100_90['loss'].idxmin()]"
   ]
  },
  {
   "cell_type": "code",
   "execution_count": 20,
   "metadata": {},
   "outputs": [
    {
     "data": {
      "text/plain": [
       "\"{'dim1': 40, 'dim2': 20}\""
      ]
     },
     "execution_count": 20,
     "metadata": {},
     "output_type": "execute_result"
    }
   ],
   "source": [
    "VAEs_Kriging_200_30['params'][VAEs_Kriging_200_30['loss'].idxmin()]"
   ]
  },
  {
   "cell_type": "code",
   "execution_count": 21,
   "metadata": {},
   "outputs": [
    {
     "data": {
      "text/plain": [
       "\"{'dim1': 45, 'dim2': 50}\""
      ]
     },
     "execution_count": 21,
     "metadata": {},
     "output_type": "execute_result"
    }
   ],
   "source": [
    "VAEs_Kriging_200_60['params'][VAEs_Kriging_200_60['loss'].idxmin()]"
   ]
  },
  {
   "cell_type": "code",
   "execution_count": 22,
   "metadata": {},
   "outputs": [
    {
     "data": {
      "text/plain": [
       "\"{'dim1': 35, 'dim2': 40}\""
      ]
     },
     "execution_count": 22,
     "metadata": {},
     "output_type": "execute_result"
    }
   ],
   "source": [
    "VAEs_Kriging_200_90['params'][VAEs_Kriging_200_90['loss'].idxmin()]"
   ]
  },
  {
   "cell_type": "markdown",
   "metadata": {},
   "source": [
    "## VAEs ELN Best Hyper-Paramaters"
   ]
  },
  {
   "cell_type": "code",
   "execution_count": 30,
   "metadata": {},
   "outputs": [],
   "source": [
    "VAEs_ELN_50_30 = pd.read_csv('VAEs_ELN_5030.csv', index_col=0)\n",
    "\n",
    "VAEs_ELN_50_60 = pd.read_csv('VAEs_ELN_5060.csv', index_col=0)\n",
    "VAEs_ELN_50_90 = pd.read_csv('VAEs_ELN_5090.csv', index_col=0)\n",
    "VAEs_ELN_100_30 = pd.read_csv('VAEs_ELN_10030.csv', index_col=0)\n",
    "VAEs_ELN_100_60 = pd.read_csv('VAEs_ELN_10060.csv', index_col=0)\n",
    "VAEs_ELN_100_90 = pd.read_csv('VAEs_ELN_10090.csv', index_col=0)\n",
    "\n",
    "VAEs_ELN_200_30 = pd.read_csv('VAEs_ELN_20030.csv', index_col=0)\n",
    "\n",
    "VAEs_ELN_200_60 = pd.read_csv('VAEs_ELN_20060.csv', index_col=0)\n",
    "VAEs_ELN_200_90 = pd.read_csv('VAEs_ELN_20090.csv', index_col=0)"
   ]
  },
  {
   "cell_type": "code",
   "execution_count": 31,
   "metadata": {},
   "outputs": [
    {
     "data": {
      "text/plain": [
       "\"{'dim1': 35, 'dim2': 20, 'dim3': -1.8259186369806055, 'dim4': 0.6579307791953877}\""
      ]
     },
     "execution_count": 31,
     "metadata": {},
     "output_type": "execute_result"
    }
   ],
   "source": [
    "VAEs_ELN_50_30['params'][VAEs_ELN_50_30['loss'].idxmin()]"
   ]
  },
  {
   "cell_type": "code",
   "execution_count": 32,
   "metadata": {},
   "outputs": [
    {
     "data": {
      "text/plain": [
       "\"{'dim1': 45, 'dim2': 25, 'dim3': -0.36328082171825893, 'dim4': 0.9944128287620277}\""
      ]
     },
     "execution_count": 32,
     "metadata": {},
     "output_type": "execute_result"
    }
   ],
   "source": [
    "VAEs_ELN_50_60['params'][VAEs_ELN_50_60['loss'].idxmin()]"
   ]
  },
  {
   "cell_type": "code",
   "execution_count": 33,
   "metadata": {},
   "outputs": [
    {
     "data": {
      "text/plain": [
       "\"{'dim1': 45, 'dim2': 25, 'dim3': -0.20818671703933217, 'dim4': 0.9982987975507677}\""
      ]
     },
     "execution_count": 33,
     "metadata": {},
     "output_type": "execute_result"
    }
   ],
   "source": [
    "VAEs_ELN_50_90['params'][VAEs_ELN_50_90['loss'].idxmin()]"
   ]
  },
  {
   "cell_type": "code",
   "execution_count": 34,
   "metadata": {},
   "outputs": [
    {
     "data": {
      "text/plain": [
       "\"{'dim1': 45, 'dim2': 20, 'dim3': -0.722039987080453, 'dim4': 0.9575860878165732}\""
      ]
     },
     "execution_count": 34,
     "metadata": {},
     "output_type": "execute_result"
    }
   ],
   "source": [
    "VAEs_ELN_100_30['params'][VAEs_ELN_100_30['loss'].idxmin()]"
   ]
  },
  {
   "cell_type": "code",
   "execution_count": 35,
   "metadata": {},
   "outputs": [
    {
     "data": {
      "text/plain": [
       "\"{'dim1': 45, 'dim2': 40, 'dim3': -1.547648986238639, 'dim4': 0.5027431201128207}\""
      ]
     },
     "execution_count": 35,
     "metadata": {},
     "output_type": "execute_result"
    }
   ],
   "source": [
    "VAEs_ELN_100_60['params'][VAEs_ELN_100_60['loss'].idxmin()]"
   ]
  },
  {
   "cell_type": "code",
   "execution_count": 36,
   "metadata": {},
   "outputs": [
    {
     "data": {
      "text/plain": [
       "\"{'dim1': 30, 'dim2': 20, 'dim3': -1.5378630430013596, 'dim4': 0.9869582016178848}\""
      ]
     },
     "execution_count": 36,
     "metadata": {},
     "output_type": "execute_result"
    }
   ],
   "source": [
    "VAEs_ELN_100_90['params'][VAEs_ELN_100_90['loss'].idxmin()]"
   ]
  },
  {
   "cell_type": "code",
   "execution_count": 38,
   "metadata": {},
   "outputs": [
    {
     "data": {
      "text/plain": [
       "\"{'dim1': 45, 'dim2': 50, 'dim3': -1.1885186647949246, 'dim4': 0.8690092455490132}\""
      ]
     },
     "execution_count": 38,
     "metadata": {},
     "output_type": "execute_result"
    }
   ],
   "source": [
    "VAEs_ELN_200_60['params'][VAEs_ELN_200_60['loss'].idxmin()]"
   ]
  },
  {
   "cell_type": "code",
   "execution_count": 39,
   "metadata": {},
   "outputs": [
    {
     "data": {
      "text/plain": [
       "\"{'dim1': 40, 'dim2': 40, 'dim3': -1.2065234476618598, 'dim4': 0.8908797584581448}\""
      ]
     },
     "execution_count": 39,
     "metadata": {},
     "output_type": "execute_result"
    }
   ],
   "source": [
    "VAEs_ELN_200_90['params'][VAEs_ELN_200_90['loss'].idxmin()]"
   ]
  },
  {
   "cell_type": "code",
   "execution_count": 37,
   "metadata": {},
   "outputs": [
    {
     "data": {
      "text/plain": [
       "\"{'dim1': 45, 'dim2': 50, 'dim3': -1.7578643382095374, 'dim4': 0.5223506517836699}\""
      ]
     },
     "execution_count": 37,
     "metadata": {},
     "output_type": "execute_result"
    }
   ],
   "source": [
    "VAEs_ELN_200_30['params'][VAEs_ELN_200_30['loss'].idxmin()]"
   ]
  },
  {
   "cell_type": "code",
   "execution_count": null,
   "metadata": {},
   "outputs": [],
   "source": []
  }
 ],
 "metadata": {
  "kernelspec": {
   "display_name": "Python 3",
   "language": "python",
   "name": "python3"
  },
  "language_info": {
   "codemirror_mode": {
    "name": "ipython",
    "version": 3
   },
   "file_extension": ".py",
   "mimetype": "text/x-python",
   "name": "python",
   "nbconvert_exporter": "python",
   "pygments_lexer": "ipython3",
   "version": "3.7.0"
  }
 },
 "nbformat": 4,
 "nbformat_minor": 2
}
